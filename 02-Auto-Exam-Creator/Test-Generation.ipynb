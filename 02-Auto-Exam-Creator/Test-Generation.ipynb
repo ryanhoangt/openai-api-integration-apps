{
 "cells": [
  {
   "cell_type": "code",
   "execution_count": 1,
   "metadata": {},
   "outputs": [],
   "source": [
    "import os\n",
    "import openai\n",
    "\n",
    "from decouple import Config, RepositoryEnv\n",
    "config = Config(RepositoryEnv(\"/workspaces/codespaces-jupyter/.env\"))\n",
    "\n",
    "openai.api_key = config(\"OPENAI_API_KEY\")"
   ]
  },
  {
   "cell_type": "code",
   "execution_count": 2,
   "metadata": {},
   "outputs": [],
   "source": [
    "def create_test_prompt(topic, num_questions, num_possible_answers):\n",
    "    prompt = f\"Create a multiple choice quiz on the topic of {topic} consisting of {num_questions}\" \\\n",
    "    + f\" questions. Each question should have {num_possible_answers} options. \" \\\n",
    "    + f\"Also include the correct answer for each question using the starting string 'Correct Answer:'. \" \\\n",
    "\n",
    "    return prompt"
   ]
  },
  {
   "cell_type": "code",
   "execution_count": 3,
   "metadata": {},
   "outputs": [
    {
     "data": {
      "text/plain": [
       "\"Create a multiple choice quiz on the topic of Geography consisting of 4 questions. Each question should have 4 options. Also include the correct answer for each question using the starting string 'Correct Answer:'. \""
      ]
     },
     "execution_count": 3,
     "metadata": {},
     "output_type": "execute_result"
    }
   ],
   "source": [
    "create_test_prompt(\"Geography\", 4, 4)"
   ]
  },
  {
   "cell_type": "code",
   "execution_count": 4,
   "metadata": {},
   "outputs": [],
   "source": [
    "response = openai.Completion.create(\n",
    "    engine='text-davinci-003',\n",
    "    prompt=create_test_prompt('vietnam\\'s History', 4, 4),\n",
    "    max_tokens=256,\n",
    "    temperature=0.7\n",
    ")"
   ]
  },
  {
   "cell_type": "code",
   "execution_count": 5,
   "metadata": {},
   "outputs": [
    {
     "name": "stdout",
     "output_type": "stream",
     "text": [
      "\n",
      "\n",
      "Q1. When did the Vietnam War officially end?\n",
      "A. 1964\n",
      "B. 1975\n",
      "C. 1985\n",
      "D. 1995\n",
      "Correct Answer: B. 1975\n",
      "\n",
      "Q2. Who was the first president of North Vietnam?\n",
      "A. Ho Chi Minh\n",
      "B. Ngo Dinh Diem\n",
      "C. Nguyen Van Thieu\n",
      "D. Tran Trong Kim\n",
      "Correct Answer: A. Ho Chi Minh\n",
      "\n",
      "Q3. What religion is popular in the nation of Vietnam?\n",
      "A. Buddhism\n",
      "B. Christianity\n",
      "C. Judaism\n",
      "D. Hinduism\n",
      "Correct Answer: A. Buddhism\n",
      "\n",
      "Q4. What country occupied Vietnam during World War II?\n",
      "A. China\n",
      "B. Japan\n",
      "C. France\n",
      "D. Germany\n",
      "Correct Answer: B. Japan\n"
     ]
    }
   ],
   "source": [
    "print(response['choices'][0]['text'])"
   ]
  },
  {
   "cell_type": "code",
   "execution_count": 6,
   "metadata": {},
   "outputs": [],
   "source": [
    "def create_student_view(quiz_content, num_questions):\n",
    "    student_view = {1: ''}\n",
    "    ques_number = 1\n",
    "    for line in quiz_content.split('\\n'):\n",
    "        if not line.startswith(\"Correct Answer:\"):\n",
    "            student_view[ques_number] += line + \"\\n\"\n",
    "        else:\n",
    "            if ques_number < num_questions:\n",
    "                ques_number += 1\n",
    "                student_view[ques_number] = ''\n",
    "\n",
    "    return student_view"
   ]
  },
  {
   "cell_type": "code",
   "execution_count": 7,
   "metadata": {},
   "outputs": [],
   "source": [
    "std_view = create_student_view(response['choices'][0]['text'], 4)"
   ]
  },
  {
   "cell_type": "code",
   "execution_count": 8,
   "metadata": {},
   "outputs": [
    {
     "name": "stdout",
     "output_type": "stream",
     "text": [
      "\n",
      "\n",
      "Q1. When did the Vietnam War officially end?\n",
      "A. 1964\n",
      "B. 1975\n",
      "C. 1985\n",
      "D. 1995\n",
      "\n",
      "\n",
      "Q2. Who was the first president of North Vietnam?\n",
      "A. Ho Chi Minh\n",
      "B. Ngo Dinh Diem\n",
      "C. Nguyen Van Thieu\n",
      "D. Tran Trong Kim\n",
      "\n",
      "\n",
      "Q3. What religion is popular in the nation of Vietnam?\n",
      "A. Buddhism\n",
      "B. Christianity\n",
      "C. Judaism\n",
      "D. Hinduism\n",
      "\n",
      "\n",
      "Q4. What country occupied Vietnam during World War II?\n",
      "A. China\n",
      "B. Japan\n",
      "C. France\n",
      "D. Germany\n",
      "\n"
     ]
    }
   ],
   "source": [
    "for key in std_view:\n",
    "    print(std_view[key])"
   ]
  },
  {
   "cell_type": "code",
   "execution_count": 9,
   "metadata": {},
   "outputs": [],
   "source": [
    "def extract_answer(quiz_content, num_questions):\n",
    "    answers = {1: ''}\n",
    "    ques_number = 1\n",
    "    for line in quiz_content.split('\\n'):\n",
    "        if line.startswith(\"Correct Answer:\"):\n",
    "            answers[ques_number] += line + \"\\n\"\n",
    "\n",
    "            if ques_number < num_questions:\n",
    "                ques_number += 1\n",
    "                answers[ques_number] = ''\n",
    "\n",
    "    return answers"
   ]
  },
  {
   "cell_type": "code",
   "execution_count": 16,
   "metadata": {},
   "outputs": [
    {
     "name": "stdout",
     "output_type": "stream",
     "text": [
      "{1: 'Correct Answer: B. 1975\\n', 2: 'Correct Answer: A. Ho Chi Minh\\n', 3: 'Correct Answer: A. Buddhism\\n', 4: 'Correct Answer: B. Japan\\n'}\n"
     ]
    }
   ],
   "source": [
    "correct_ans = extract_answer(response['choices'][0]['text'], 4)\n",
    "print(correct_ans)"
   ]
  },
  {
   "cell_type": "code",
   "execution_count": 12,
   "metadata": {},
   "outputs": [],
   "source": [
    "def take(student_view):\n",
    "    student_ans = {}\n",
    "    for question, question_view in student_view.items():\n",
    "        print(question_view)\n",
    "        answer = input(\"Enter your answer: \")\n",
    "        student_ans[question] = answer\n",
    "\n",
    "    return student_ans"
   ]
  },
  {
   "cell_type": "code",
   "execution_count": 13,
   "metadata": {},
   "outputs": [
    {
     "name": "stdout",
     "output_type": "stream",
     "text": [
      "\n",
      "\n",
      "Q1. When did the Vietnam War officially end?\n",
      "A. 1964\n",
      "B. 1975\n",
      "C. 1985\n",
      "D. 1995\n",
      "\n",
      "\n",
      "Q2. Who was the first president of North Vietnam?\n",
      "A. Ho Chi Minh\n",
      "B. Ngo Dinh Diem\n",
      "C. Nguyen Van Thieu\n",
      "D. Tran Trong Kim\n",
      "\n",
      "\n",
      "Q3. What religion is popular in the nation of Vietnam?\n",
      "A. Buddhism\n",
      "B. Christianity\n",
      "C. Judaism\n",
      "D. Hinduism\n",
      "\n",
      "\n",
      "Q4. What country occupied Vietnam during World War II?\n",
      "A. China\n",
      "B. Japan\n",
      "C. France\n",
      "D. Germany\n",
      "\n"
     ]
    }
   ],
   "source": [
    "student_answers = take(student_view=std_view)"
   ]
  },
  {
   "cell_type": "code",
   "execution_count": 14,
   "metadata": {},
   "outputs": [
    {
     "name": "stdout",
     "output_type": "stream",
     "text": [
      "{1: 'B', 2: 'A', 3: 'A', 4: 'B'}\n"
     ]
    }
   ],
   "source": [
    "print(student_answers)"
   ]
  },
  {
   "cell_type": "code",
   "execution_count": 19,
   "metadata": {},
   "outputs": [
    {
     "data": {
      "text/plain": [
       "'B'"
      ]
     },
     "execution_count": 19,
     "metadata": {},
     "output_type": "execute_result"
    }
   ],
   "source": [
    "correct_ans[1][16]"
   ]
  },
  {
   "cell_type": "code",
   "execution_count": 20,
   "metadata": {},
   "outputs": [],
   "source": [
    "def grade(correct_ans, student_ans):\n",
    "    score = 0\n",
    "    for ques, ans in student_ans.items():\n",
    "        if ans.upper() == correct_ans[ques][16]:\n",
    "            score += 1\n",
    "        \n",
    "    grade = 100 * score / len(correct_ans)\n",
    "\n",
    "    if grade < 60:\n",
    "        passed = \"NO PASS!\"\n",
    "    else:\n",
    "        passed = \"PASS!\"\n",
    "\n",
    "    return f\"{score}/{len(correct_ans)} correct! You got {grade} grade, {passed}\""
   ]
  },
  {
   "cell_type": "code",
   "execution_count": 21,
   "metadata": {},
   "outputs": [
    {
     "data": {
      "text/plain": [
       "'4/4 correct! You got 100.0 grade, PASS!'"
      ]
     },
     "execution_count": 21,
     "metadata": {},
     "output_type": "execute_result"
    }
   ],
   "source": [
    "grade(correct_ans, student_answers)"
   ]
  }
 ],
 "metadata": {
  "kernelspec": {
   "display_name": "Python 3 (ipykernel)",
   "language": "python",
   "name": "python3"
  },
  "language_info": {
   "codemirror_mode": {
    "name": "ipython",
    "version": 3
   },
   "file_extension": ".py",
   "mimetype": "text/x-python",
   "name": "python",
   "nbconvert_exporter": "python",
   "pygments_lexer": "ipython3",
   "version": "3.10.4"
  },
  "orig_nbformat": 4
 },
 "nbformat": 4,
 "nbformat_minor": 2
}
