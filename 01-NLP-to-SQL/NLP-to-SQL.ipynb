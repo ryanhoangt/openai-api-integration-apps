{
 "cells": [
  {
   "cell_type": "code",
   "execution_count": 1,
   "metadata": {},
   "outputs": [],
   "source": [
    "import os\n",
    "import openai\n",
    "\n",
    "from decouple import Config, RepositoryEnv\n",
    "config = Config(RepositoryEnv(\"/workspaces/codespaces-jupyter/.env\"))"
   ]
  },
  {
   "cell_type": "code",
   "execution_count": 2,
   "metadata": {},
   "outputs": [],
   "source": [
    "openai.api_key = config(\"OPENAI_API_KEY\")"
   ]
  },
  {
   "cell_type": "code",
   "execution_count": 3,
   "metadata": {},
   "outputs": [],
   "source": [
    "response = openai.Completion.create(\n",
    "    model=\"text-davinci-003\",\n",
    "    prompt=\"What are the oceans adjacent to Asia?\",\n",
    "    max_tokens=300\n",
    "    )"
   ]
  },
  {
   "cell_type": "code",
   "execution_count": 8,
   "metadata": {},
   "outputs": [
    {
     "name": "stdout",
     "output_type": "stream",
     "text": [
      "\n",
      "\n",
      "The oceans adjacent to Asia are the Arctic Ocean, Indian Ocean, Pacific Ocean, and South China Sea.\n"
     ]
    }
   ],
   "source": [
    "print(response['choices'][0]['text'])"
   ]
  },
  {
   "cell_type": "code",
   "execution_count": 9,
   "metadata": {},
   "outputs": [],
   "source": [
    "import pandas as pd\n",
    "\n",
    "df = pd.read_csv('./01-NLP-to-SQL/data/sales_data_sample.csv')"
   ]
  },
  {
   "cell_type": "code",
   "execution_count": 10,
   "metadata": {},
   "outputs": [
    {
     "data": {
      "text/html": [
       "<div>\n",
       "<style scoped>\n",
       "    .dataframe tbody tr th:only-of-type {\n",
       "        vertical-align: middle;\n",
       "    }\n",
       "\n",
       "    .dataframe tbody tr th {\n",
       "        vertical-align: top;\n",
       "    }\n",
       "\n",
       "    .dataframe thead th {\n",
       "        text-align: right;\n",
       "    }\n",
       "</style>\n",
       "<table border=\"1\" class=\"dataframe\">\n",
       "  <thead>\n",
       "    <tr style=\"text-align: right;\">\n",
       "      <th></th>\n",
       "      <th>ORDERNUMBER</th>\n",
       "      <th>QUANTITYORDERED</th>\n",
       "      <th>PRICEEACH</th>\n",
       "      <th>SALES</th>\n",
       "      <th>ORDERDATE</th>\n",
       "      <th>QTR_ID</th>\n",
       "      <th>MONTH_ID</th>\n",
       "      <th>YEAR_ID</th>\n",
       "      <th>PRODUCTLINE</th>\n",
       "      <th>PHONE</th>\n",
       "      <th>ADDRESSLINE1</th>\n",
       "      <th>CITY</th>\n",
       "      <th>STATE</th>\n",
       "      <th>POSTALCODE</th>\n",
       "      <th>COUNTRY</th>\n",
       "      <th>CONTACTLASTNAME</th>\n",
       "      <th>CONTACTFIRSTNAME</th>\n",
       "    </tr>\n",
       "  </thead>\n",
       "  <tbody>\n",
       "    <tr>\n",
       "      <th>0</th>\n",
       "      <td>10107</td>\n",
       "      <td>30</td>\n",
       "      <td>95.70</td>\n",
       "      <td>2871.00</td>\n",
       "      <td>2/24/2003 0:00</td>\n",
       "      <td>1</td>\n",
       "      <td>2</td>\n",
       "      <td>2003</td>\n",
       "      <td>Motorcycles</td>\n",
       "      <td>2125557818</td>\n",
       "      <td>897 Long Airport Avenue</td>\n",
       "      <td>NYC</td>\n",
       "      <td>NY</td>\n",
       "      <td>10022</td>\n",
       "      <td>USA</td>\n",
       "      <td>Yu</td>\n",
       "      <td>Kwai</td>\n",
       "    </tr>\n",
       "    <tr>\n",
       "      <th>1</th>\n",
       "      <td>10121</td>\n",
       "      <td>34</td>\n",
       "      <td>81.35</td>\n",
       "      <td>2765.90</td>\n",
       "      <td>5/7/2003 0:00</td>\n",
       "      <td>2</td>\n",
       "      <td>5</td>\n",
       "      <td>2003</td>\n",
       "      <td>Motorcycles</td>\n",
       "      <td>26.47.1555</td>\n",
       "      <td>59 rue de l'Abbaye</td>\n",
       "      <td>Reims</td>\n",
       "      <td>NaN</td>\n",
       "      <td>51100</td>\n",
       "      <td>France</td>\n",
       "      <td>Henriot</td>\n",
       "      <td>Paul</td>\n",
       "    </tr>\n",
       "    <tr>\n",
       "      <th>2</th>\n",
       "      <td>10134</td>\n",
       "      <td>41</td>\n",
       "      <td>94.74</td>\n",
       "      <td>3884.34</td>\n",
       "      <td>7/1/2003 0:00</td>\n",
       "      <td>3</td>\n",
       "      <td>7</td>\n",
       "      <td>2003</td>\n",
       "      <td>Motorcycles</td>\n",
       "      <td>+33 1 46 62 7555</td>\n",
       "      <td>27 rue du Colonel Pierre Avia</td>\n",
       "      <td>Paris</td>\n",
       "      <td>NaN</td>\n",
       "      <td>75508</td>\n",
       "      <td>France</td>\n",
       "      <td>Da Cunha</td>\n",
       "      <td>Daniel</td>\n",
       "    </tr>\n",
       "    <tr>\n",
       "      <th>3</th>\n",
       "      <td>10145</td>\n",
       "      <td>45</td>\n",
       "      <td>83.26</td>\n",
       "      <td>3746.70</td>\n",
       "      <td>8/25/2003 0:00</td>\n",
       "      <td>3</td>\n",
       "      <td>8</td>\n",
       "      <td>2003</td>\n",
       "      <td>Motorcycles</td>\n",
       "      <td>6265557265</td>\n",
       "      <td>78934 Hillside Dr.</td>\n",
       "      <td>Pasadena</td>\n",
       "      <td>CA</td>\n",
       "      <td>90003</td>\n",
       "      <td>USA</td>\n",
       "      <td>Young</td>\n",
       "      <td>Julie</td>\n",
       "    </tr>\n",
       "    <tr>\n",
       "      <th>4</th>\n",
       "      <td>10159</td>\n",
       "      <td>49</td>\n",
       "      <td>100.00</td>\n",
       "      <td>5205.27</td>\n",
       "      <td>10/10/2003 0:00</td>\n",
       "      <td>4</td>\n",
       "      <td>10</td>\n",
       "      <td>2003</td>\n",
       "      <td>Motorcycles</td>\n",
       "      <td>6505551386</td>\n",
       "      <td>7734 Strong St.</td>\n",
       "      <td>San Francisco</td>\n",
       "      <td>CA</td>\n",
       "      <td>NaN</td>\n",
       "      <td>USA</td>\n",
       "      <td>Brown</td>\n",
       "      <td>Julie</td>\n",
       "    </tr>\n",
       "    <tr>\n",
       "      <th>...</th>\n",
       "      <td>...</td>\n",
       "      <td>...</td>\n",
       "      <td>...</td>\n",
       "      <td>...</td>\n",
       "      <td>...</td>\n",
       "      <td>...</td>\n",
       "      <td>...</td>\n",
       "      <td>...</td>\n",
       "      <td>...</td>\n",
       "      <td>...</td>\n",
       "      <td>...</td>\n",
       "      <td>...</td>\n",
       "      <td>...</td>\n",
       "      <td>...</td>\n",
       "      <td>...</td>\n",
       "      <td>...</td>\n",
       "      <td>...</td>\n",
       "    </tr>\n",
       "    <tr>\n",
       "      <th>2818</th>\n",
       "      <td>10350</td>\n",
       "      <td>20</td>\n",
       "      <td>100.00</td>\n",
       "      <td>2244.40</td>\n",
       "      <td>12/2/2004 0:00</td>\n",
       "      <td>4</td>\n",
       "      <td>12</td>\n",
       "      <td>2004</td>\n",
       "      <td>Ships</td>\n",
       "      <td>(91) 555 94 44</td>\n",
       "      <td>C/ Moralzarzal, 86</td>\n",
       "      <td>Madrid</td>\n",
       "      <td>NaN</td>\n",
       "      <td>28034</td>\n",
       "      <td>Spain</td>\n",
       "      <td>Freyre</td>\n",
       "      <td>Diego</td>\n",
       "    </tr>\n",
       "    <tr>\n",
       "      <th>2819</th>\n",
       "      <td>10373</td>\n",
       "      <td>29</td>\n",
       "      <td>100.00</td>\n",
       "      <td>3978.51</td>\n",
       "      <td>1/31/2005 0:00</td>\n",
       "      <td>1</td>\n",
       "      <td>1</td>\n",
       "      <td>2005</td>\n",
       "      <td>Ships</td>\n",
       "      <td>981-443655</td>\n",
       "      <td>Torikatu 38</td>\n",
       "      <td>Oulu</td>\n",
       "      <td>NaN</td>\n",
       "      <td>90110</td>\n",
       "      <td>Finland</td>\n",
       "      <td>Koskitalo</td>\n",
       "      <td>Pirkko</td>\n",
       "    </tr>\n",
       "    <tr>\n",
       "      <th>2820</th>\n",
       "      <td>10386</td>\n",
       "      <td>43</td>\n",
       "      <td>100.00</td>\n",
       "      <td>5417.57</td>\n",
       "      <td>3/1/2005 0:00</td>\n",
       "      <td>1</td>\n",
       "      <td>3</td>\n",
       "      <td>2005</td>\n",
       "      <td>Ships</td>\n",
       "      <td>(91) 555 94 44</td>\n",
       "      <td>C/ Moralzarzal, 86</td>\n",
       "      <td>Madrid</td>\n",
       "      <td>NaN</td>\n",
       "      <td>28034</td>\n",
       "      <td>Spain</td>\n",
       "      <td>Freyre</td>\n",
       "      <td>Diego</td>\n",
       "    </tr>\n",
       "    <tr>\n",
       "      <th>2821</th>\n",
       "      <td>10397</td>\n",
       "      <td>34</td>\n",
       "      <td>62.24</td>\n",
       "      <td>2116.16</td>\n",
       "      <td>3/28/2005 0:00</td>\n",
       "      <td>1</td>\n",
       "      <td>3</td>\n",
       "      <td>2005</td>\n",
       "      <td>Ships</td>\n",
       "      <td>61.77.6555</td>\n",
       "      <td>1 rue Alsace-Lorraine</td>\n",
       "      <td>Toulouse</td>\n",
       "      <td>NaN</td>\n",
       "      <td>31000</td>\n",
       "      <td>France</td>\n",
       "      <td>Roulet</td>\n",
       "      <td>Annette</td>\n",
       "    </tr>\n",
       "    <tr>\n",
       "      <th>2822</th>\n",
       "      <td>10414</td>\n",
       "      <td>47</td>\n",
       "      <td>65.52</td>\n",
       "      <td>3079.44</td>\n",
       "      <td>5/6/2005 0:00</td>\n",
       "      <td>2</td>\n",
       "      <td>5</td>\n",
       "      <td>2005</td>\n",
       "      <td>Ships</td>\n",
       "      <td>6175559555</td>\n",
       "      <td>8616 Spinnaker Dr.</td>\n",
       "      <td>Boston</td>\n",
       "      <td>MA</td>\n",
       "      <td>51003</td>\n",
       "      <td>USA</td>\n",
       "      <td>Yoshido</td>\n",
       "      <td>Juri</td>\n",
       "    </tr>\n",
       "  </tbody>\n",
       "</table>\n",
       "<p>2823 rows × 17 columns</p>\n",
       "</div>"
      ],
      "text/plain": [
       "      ORDERNUMBER  QUANTITYORDERED  PRICEEACH    SALES        ORDERDATE  \\\n",
       "0           10107               30      95.70  2871.00   2/24/2003 0:00   \n",
       "1           10121               34      81.35  2765.90    5/7/2003 0:00   \n",
       "2           10134               41      94.74  3884.34    7/1/2003 0:00   \n",
       "3           10145               45      83.26  3746.70   8/25/2003 0:00   \n",
       "4           10159               49     100.00  5205.27  10/10/2003 0:00   \n",
       "...           ...              ...        ...      ...              ...   \n",
       "2818        10350               20     100.00  2244.40   12/2/2004 0:00   \n",
       "2819        10373               29     100.00  3978.51   1/31/2005 0:00   \n",
       "2820        10386               43     100.00  5417.57    3/1/2005 0:00   \n",
       "2821        10397               34      62.24  2116.16   3/28/2005 0:00   \n",
       "2822        10414               47      65.52  3079.44    5/6/2005 0:00   \n",
       "\n",
       "      QTR_ID  MONTH_ID  YEAR_ID  PRODUCTLINE             PHONE  \\\n",
       "0          1         2     2003  Motorcycles        2125557818   \n",
       "1          2         5     2003  Motorcycles        26.47.1555   \n",
       "2          3         7     2003  Motorcycles  +33 1 46 62 7555   \n",
       "3          3         8     2003  Motorcycles        6265557265   \n",
       "4          4        10     2003  Motorcycles        6505551386   \n",
       "...      ...       ...      ...          ...               ...   \n",
       "2818       4        12     2004        Ships    (91) 555 94 44   \n",
       "2819       1         1     2005        Ships        981-443655   \n",
       "2820       1         3     2005        Ships    (91) 555 94 44   \n",
       "2821       1         3     2005        Ships        61.77.6555   \n",
       "2822       2         5     2005        Ships        6175559555   \n",
       "\n",
       "                       ADDRESSLINE1           CITY STATE POSTALCODE  COUNTRY  \\\n",
       "0           897 Long Airport Avenue            NYC    NY      10022      USA   \n",
       "1                59 rue de l'Abbaye          Reims   NaN      51100   France   \n",
       "2     27 rue du Colonel Pierre Avia          Paris   NaN      75508   France   \n",
       "3                78934 Hillside Dr.       Pasadena    CA      90003      USA   \n",
       "4                   7734 Strong St.  San Francisco    CA        NaN      USA   \n",
       "...                             ...            ...   ...        ...      ...   \n",
       "2818             C/ Moralzarzal, 86         Madrid   NaN      28034    Spain   \n",
       "2819                    Torikatu 38           Oulu   NaN      90110  Finland   \n",
       "2820             C/ Moralzarzal, 86         Madrid   NaN      28034    Spain   \n",
       "2821          1 rue Alsace-Lorraine       Toulouse   NaN      31000   France   \n",
       "2822             8616 Spinnaker Dr.         Boston    MA      51003      USA   \n",
       "\n",
       "     CONTACTLASTNAME CONTACTFIRSTNAME  \n",
       "0                 Yu             Kwai  \n",
       "1            Henriot             Paul  \n",
       "2           Da Cunha           Daniel  \n",
       "3              Young            Julie  \n",
       "4              Brown            Julie  \n",
       "...              ...              ...  \n",
       "2818          Freyre            Diego  \n",
       "2819       Koskitalo           Pirkko  \n",
       "2820          Freyre            Diego  \n",
       "2821          Roulet          Annette  \n",
       "2822         Yoshido             Juri  \n",
       "\n",
       "[2823 rows x 17 columns]"
      ]
     },
     "execution_count": 10,
     "metadata": {},
     "output_type": "execute_result"
    }
   ],
   "source": [
    "df"
   ]
  },
  {
   "cell_type": "code",
   "execution_count": 12,
   "metadata": {},
   "outputs": [],
   "source": [
    "import sqlalchemy\n",
    "from sqlalchemy import create_engine, text"
   ]
  },
  {
   "cell_type": "code",
   "execution_count": 13,
   "metadata": {},
   "outputs": [],
   "source": [
    "temp_db = create_engine('sqlite:///:memory:', echo=True)"
   ]
  },
  {
   "cell_type": "code",
   "execution_count": 14,
   "metadata": {},
   "outputs": [
    {
     "name": "stdout",
     "output_type": "stream",
     "text": [
      "2023-05-07 09:31:26,301 INFO sqlalchemy.engine.Engine BEGIN (implicit)\n",
      "2023-05-07 09:31:26,302 INFO sqlalchemy.engine.Engine PRAGMA main.table_info(\"Sales\")\n",
      "2023-05-07 09:31:26,303 INFO sqlalchemy.engine.Engine [raw sql] ()\n",
      "2023-05-07 09:31:26,305 INFO sqlalchemy.engine.Engine PRAGMA temp.table_info(\"Sales\")\n",
      "2023-05-07 09:31:26,305 INFO sqlalchemy.engine.Engine [raw sql] ()\n",
      "2023-05-07 09:31:26,307 INFO sqlalchemy.engine.Engine ROLLBACK\n",
      "2023-05-07 09:31:26,310 INFO sqlalchemy.engine.Engine BEGIN (implicit)\n",
      "2023-05-07 09:31:26,312 INFO sqlalchemy.engine.Engine \n",
      "CREATE TABLE \"Sales\" (\n",
      "\t\"index\" BIGINT, \n",
      "\t\"ORDERNUMBER\" BIGINT, \n",
      "\t\"QUANTITYORDERED\" BIGINT, \n",
      "\t\"PRICEEACH\" FLOAT, \n",
      "\t\"SALES\" FLOAT, \n",
      "\t\"ORDERDATE\" TEXT, \n",
      "\t\"QTR_ID\" BIGINT, \n",
      "\t\"MONTH_ID\" BIGINT, \n",
      "\t\"YEAR_ID\" BIGINT, \n",
      "\t\"PRODUCTLINE\" TEXT, \n",
      "\t\"PHONE\" TEXT, \n",
      "\t\"ADDRESSLINE1\" TEXT, \n",
      "\t\"CITY\" TEXT, \n",
      "\t\"STATE\" TEXT, \n",
      "\t\"POSTALCODE\" TEXT, \n",
      "\t\"COUNTRY\" TEXT, \n",
      "\t\"CONTACTLASTNAME\" TEXT, \n",
      "\t\"CONTACTFIRSTNAME\" TEXT\n",
      ")\n",
      "\n",
      "\n",
      "2023-05-07 09:31:26,312 INFO sqlalchemy.engine.Engine [no key 0.00089s] ()\n",
      "2023-05-07 09:31:26,315 INFO sqlalchemy.engine.Engine CREATE INDEX \"ix_Sales_index\" ON \"Sales\" (\"index\")\n",
      "2023-05-07 09:31:26,316 INFO sqlalchemy.engine.Engine [no key 0.00104s] ()\n",
      "2023-05-07 09:31:26,317 INFO sqlalchemy.engine.Engine COMMIT\n",
      "2023-05-07 09:31:26,327 INFO sqlalchemy.engine.Engine BEGIN (implicit)\n",
      "2023-05-07 09:31:26,361 INFO sqlalchemy.engine.Engine INSERT INTO \"Sales\" (\"index\", \"ORDERNUMBER\", \"QUANTITYORDERED\", \"PRICEEACH\", \"SALES\", \"ORDERDATE\", \"QTR_ID\", \"MONTH_ID\", \"YEAR_ID\", \"PRODUCTLINE\", \"PHONE\", \"ADDRESSLINE1\", \"CITY\", \"STATE\", \"POSTALCODE\", \"COUNTRY\", \"CONTACTLASTNAME\", \"CONTACTFIRSTNAME\") VALUES (?, ?, ?, ?, ?, ?, ?, ?, ?, ?, ?, ?, ?, ?, ?, ?, ?, ?)\n",
      "2023-05-07 09:31:26,362 INFO sqlalchemy.engine.Engine [generated in 0.02742s] [(0, 10107, 30, 95.7, 2871.0, '2/24/2003 0:00', 1, 2, 2003, 'Motorcycles', '2125557818', '897 Long Airport Avenue', 'NYC', 'NY', '10022', 'USA', 'Yu', 'Kwai'), (1, 10121, 34, 81.35, 2765.9, '5/7/2003 0:00', 2, 5, 2003, 'Motorcycles', '26.47.1555', \"59 rue de l'Abbaye\", 'Reims', None, '51100', 'France', 'Henriot', 'Paul'), (2, 10134, 41, 94.74, 3884.34, '7/1/2003 0:00', 3, 7, 2003, 'Motorcycles', '+33 1 46 62 7555', '27 rue du Colonel Pierre Avia', 'Paris', None, '75508', 'France', 'Da Cunha', 'Daniel'), (3, 10145, 45, 83.26, 3746.7, '8/25/2003 0:00', 3, 8, 2003, 'Motorcycles', '6265557265', '78934 Hillside Dr.', 'Pasadena', 'CA', '90003', 'USA', 'Young', 'Julie'), (4, 10159, 49, 100.0, 5205.27, '10/10/2003 0:00', 4, 10, 2003, 'Motorcycles', '6505551386', '7734 Strong St.', 'San Francisco', 'CA', None, 'USA', 'Brown', 'Julie'), (5, 10168, 36, 96.66, 3479.76, '10/28/2003 0:00', 4, 10, 2003, 'Motorcycles', '6505556809', '9408 Furth Circle', 'Burlingame', 'CA', '94217', 'USA', 'Hirano', 'Juri'), (6, 10180, 29, 86.13, 2497.77, '11/11/2003 0:00', 4, 11, 2003, 'Motorcycles', '20.16.1555', '184, chausse de Tournai', 'Lille', None, '59000', 'France', 'Rance', 'Martine'), (7, 10188, 48, 100.0, 5512.32, '11/18/2003 0:00', 4, 11, 2003, 'Motorcycles', '+47 2267 3215', 'Drammen 121, PR 744 Sentrum', 'Bergen', None, 'N 5804', 'Norway', 'Oeztan', 'Veysel')  ... displaying 10 of 2823 total bound parameter sets ...  (2821, 10397, 34, 62.24, 2116.16, '3/28/2005 0:00', 1, 3, 2005, 'Ships', '61.77.6555', '1 rue Alsace-Lorraine', 'Toulouse', None, '31000', 'France', 'Roulet', 'Annette'), (2822, 10414, 47, 65.52, 3079.44, '5/6/2005 0:00', 2, 5, 2005, 'Ships', '6175559555', '8616 Spinnaker Dr.', 'Boston', 'MA', '51003', 'USA', 'Yoshido', 'Juri')]\n",
      "2023-05-07 09:31:26,373 INFO sqlalchemy.engine.Engine COMMIT\n",
      "2023-05-07 09:31:26,375 INFO sqlalchemy.engine.Engine BEGIN (implicit)\n",
      "2023-05-07 09:31:26,376 INFO sqlalchemy.engine.Engine SELECT name FROM sqlite_master WHERE type='table' AND name NOT LIKE 'sqlite~_%' ESCAPE '~' ORDER BY name\n",
      "2023-05-07 09:31:26,376 INFO sqlalchemy.engine.Engine [raw sql] ()\n",
      "2023-05-07 09:31:26,377 INFO sqlalchemy.engine.Engine ROLLBACK\n"
     ]
    }
   ],
   "source": [
    "data = df.to_sql(name=\"Sales\", con=temp_db)"
   ]
  },
  {
   "cell_type": "code",
   "execution_count": 16,
   "metadata": {},
   "outputs": [
    {
     "name": "stdout",
     "output_type": "stream",
     "text": [
      "2023-05-07 09:33:02,628 INFO sqlalchemy.engine.Engine BEGIN (implicit)\n",
      "2023-05-07 09:33:02,630 INFO sqlalchemy.engine.Engine SELECT * FROM Sales;\n",
      "2023-05-07 09:33:02,630 INFO sqlalchemy.engine.Engine [generated in 0.00239s] ()\n",
      "2023-05-07 09:33:02,632 INFO sqlalchemy.engine.Engine ROLLBACK\n"
     ]
    }
   ],
   "source": [
    "with temp_db.connect() as conn:\n",
    "    result = conn.execute(text(\"SELECT * FROM Sales;\"))"
   ]
  },
  {
   "cell_type": "code",
   "execution_count": 17,
   "metadata": {},
   "outputs": [
    {
     "data": {
      "text/plain": [
       "(0, 10107, 30, 95.7, 2871.0, '2/24/2003 0:00', 1, 2, 2003, 'Motorcycles', '2125557818', '897 Long Airport Avenue', 'NYC', 'NY', '10022', 'USA', 'Yu', 'Kwai')"
      ]
     },
     "execution_count": 17,
     "metadata": {},
     "output_type": "execute_result"
    }
   ],
   "source": [
    "result.fetchone()"
   ]
  },
  {
   "cell_type": "code",
   "execution_count": 18,
   "metadata": {},
   "outputs": [],
   "source": [
    "def create_table_definition(df):\n",
    "    prompt = \"\"\"### sqlite SQL table, with its properties:\n",
    "    #\n",
    "    # Sales({})\n",
    "    #\n",
    "    \"\"\".format(\",\".join(str(col) for col in df.columns))\n",
    "\n",
    "    return prompt"
   ]
  },
  {
   "cell_type": "code",
   "execution_count": 19,
   "metadata": {},
   "outputs": [
    {
     "name": "stdout",
     "output_type": "stream",
     "text": [
      "### sqlite SQL table, with its properties:\n",
      "    #\n",
      "    # Sales(ORDERNUMBER,QUANTITYORDERED,PRICEEACH,SALES,ORDERDATE,QTR_ID,MONTH_ID,YEAR_ID,PRODUCTLINE,PHONE,ADDRESSLINE1,CITY,STATE,POSTALCODE,COUNTRY,CONTACTLASTNAME,CONTACTFIRSTNAME)\n",
      "    #\n",
      "    \n"
     ]
    }
   ],
   "source": [
    "print(create_table_definition(df))"
   ]
  },
  {
   "cell_type": "code",
   "execution_count": 20,
   "metadata": {},
   "outputs": [],
   "source": [
    "def prompt_input():\n",
    "    nlp_text = input(\"Enter the info you want: \")\n",
    "    return nlp_text"
   ]
  },
  {
   "cell_type": "code",
   "execution_count": 21,
   "metadata": {},
   "outputs": [
    {
     "data": {
      "text/plain": [
       "'get all sales per quarter'"
      ]
     },
     "execution_count": 21,
     "metadata": {},
     "output_type": "execute_result"
    }
   ],
   "source": [
    "prompt_input()"
   ]
  },
  {
   "cell_type": "code",
   "execution_count": 22,
   "metadata": {},
   "outputs": [],
   "source": [
    "def combine_prompts(df, query_prompt):\n",
    "    definition = create_table_definition(df)\n",
    "    query_init_str = f\"### A query to answer: {query_prompt}\\nSELECT\"\n",
    "    \n",
    "    return definition + query_init_str"
   ]
  },
  {
   "cell_type": "code",
   "execution_count": 39,
   "metadata": {},
   "outputs": [
    {
     "data": {
      "text/plain": [
       "'### sqlite SQL table, with its properties:\\n    #\\n    # Sales(ORDERNUMBER,QUANTITYORDERED,PRICEEACH,SALES,ORDERDATE,QTR_ID,MONTH_ID,YEAR_ID,PRODUCTLINE,PHONE,ADDRESSLINE1,CITY,STATE,POSTALCODE,COUNTRY,CONTACTLASTNAME,CONTACTFIRSTNAME)\\n    #\\n    ### A query to answer: total sales per QTR_ID\\nSELECT'"
      ]
     },
     "execution_count": 39,
     "metadata": {},
     "output_type": "execute_result"
    }
   ],
   "source": [
    "nlp_text = prompt_input()\n",
    "combine_prompts(df, nlp_text)"
   ]
  },
  {
   "cell_type": "code",
   "execution_count": 40,
   "metadata": {},
   "outputs": [
    {
     "name": "stdout",
     "output_type": "stream",
     "text": [
      "### sqlite SQL table, with its properties:\n",
      "    #\n",
      "    # Sales(ORDERNUMBER,QUANTITYORDERED,PRICEEACH,SALES,ORDERDATE,QTR_ID,MONTH_ID,YEAR_ID,PRODUCTLINE,PHONE,ADDRESSLINE1,CITY,STATE,POSTALCODE,COUNTRY,CONTACTLASTNAME,CONTACTFIRSTNAME)\n",
      "    #\n",
      "    ### A query to answer: total sales per QTR_ID\n",
      "SELECT\n"
     ]
    }
   ],
   "source": [
    "print(combine_prompts(df, nlp_text))"
   ]
  },
  {
   "cell_type": "code",
   "execution_count": 42,
   "metadata": {},
   "outputs": [],
   "source": [
    "response = openai.Completion.create(\n",
    "    model='davinci',\n",
    "    prompt=combine_prompts(df, nlp_text),\n",
    "    temperature=0,\n",
    "    max_tokens=150,\n",
    "    top_p=1.0,\n",
    "    frequency_penalty=0,\n",
    "    presence_penalty=0,\n",
    "    stop=['#', ';']\n",
    ")"
   ]
  },
  {
   "cell_type": "code",
   "execution_count": 43,
   "metadata": {},
   "outputs": [
    {
     "data": {
      "text/plain": [
       "' SUM(SALES) AS SALES_QTR_ID\\nFROM Sales\\nGROUP BY QTR_ID\\nORDER BY QTR_ID'"
      ]
     },
     "execution_count": 43,
     "metadata": {},
     "output_type": "execute_result"
    }
   ],
   "source": [
    "response['choices'][0]['text']"
   ]
  },
  {
   "cell_type": "code",
   "execution_count": 44,
   "metadata": {},
   "outputs": [],
   "source": [
    "def handle_response(response):\n",
    "    query_body = response['choices'][0]['text']\n",
    "    if query_body.startswith(\" \"):\n",
    "        query_body = \"SELECT\" + query_body\n",
    "    return query_body"
   ]
  },
  {
   "cell_type": "code",
   "execution_count": 45,
   "metadata": {},
   "outputs": [
    {
     "data": {
      "text/plain": [
       "'SELECT SUM(SALES) AS SALES_QTR_ID\\nFROM Sales\\nGROUP BY QTR_ID\\nORDER BY QTR_ID'"
      ]
     },
     "execution_count": 45,
     "metadata": {},
     "output_type": "execute_result"
    }
   ],
   "source": [
    "handle_response(response)"
   ]
  },
  {
   "cell_type": "code",
   "execution_count": 46,
   "metadata": {},
   "outputs": [
    {
     "name": "stdout",
     "output_type": "stream",
     "text": [
      "2023-05-07 10:55:30,386 INFO sqlalchemy.engine.Engine BEGIN (implicit)\n",
      "2023-05-07 10:55:30,388 INFO sqlalchemy.engine.Engine SELECT SUM(SALES) AS SALES_QTR_ID\n",
      "FROM Sales\n",
      "GROUP BY QTR_ID\n",
      "ORDER BY QTR_ID\n",
      "2023-05-07 10:55:30,389 INFO sqlalchemy.engine.Engine [generated in 0.00235s] ()\n",
      "2023-05-07 10:55:30,391 INFO sqlalchemy.engine.Engine ROLLBACK\n"
     ]
    }
   ],
   "source": [
    "with temp_db.connect() as conn:\n",
    "    result = conn.execute(text(handle_response(response)))"
   ]
  },
  {
   "cell_type": "code",
   "execution_count": 47,
   "metadata": {},
   "outputs": [
    {
     "data": {
      "text/plain": [
       "[(2350817.7300000004,),\n",
       " (2048120.2999999986,),\n",
       " (1758910.8099999994,),\n",
       " (3874780.01,)]"
      ]
     },
     "execution_count": 47,
     "metadata": {},
     "output_type": "execute_result"
    }
   ],
   "source": [
    "result.all()"
   ]
  }
 ],
 "metadata": {
  "kernelspec": {
   "display_name": "Python 3 (ipykernel)",
   "language": "python",
   "name": "python3"
  },
  "orig_nbformat": 4
 },
 "nbformat": 4,
 "nbformat_minor": 2
}
