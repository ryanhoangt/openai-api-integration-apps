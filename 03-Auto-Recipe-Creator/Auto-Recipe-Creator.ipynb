{
 "cells": [
  {
   "cell_type": "code",
   "execution_count": 1,
   "metadata": {},
   "outputs": [],
   "source": [
    "import os\n",
    "import openai\n",
    "\n",
    "from decouple import Config, RepositoryEnv\n",
    "config = Config(RepositoryEnv(\"/workspaces/codespaces-jupyter/.env\"))\n",
    "\n",
    "openai.api_key = config(\"OPENAI_API_KEY\")"
   ]
  },
  {
   "cell_type": "code",
   "execution_count": 2,
   "metadata": {},
   "outputs": [],
   "source": [
    "def create_dish_prompt(list_of_ingreds):\n",
    "    prompt = f\"Create a detailed recipe based on only the following ingredients: {', '.join(list_of_ingreds)}.\\n\" \\\n",
    "        + f\"Additionally, assign a title starting with 'Recipe Title: ' to this recipe.\"\n",
    "\n",
    "    return prompt"
   ]
  },
  {
   "cell_type": "code",
   "execution_count": 5,
   "metadata": {},
   "outputs": [
    {
     "name": "stdout",
     "output_type": "stream",
     "text": [
      "Create a detailed recipe based on only the following ingredients: ham, turkey, eggs, bread.\n",
      "Additionally, assign a title starting with 'Recipe Title: ' to this recipe.\n"
     ]
    }
   ],
   "source": [
    "recipe = create_dish_prompt([\"ham\", \"turkey\", \"eggs\", \"bread\"])\n",
    "print(recipe)"
   ]
  },
  {
   "cell_type": "code",
   "execution_count": 7,
   "metadata": {},
   "outputs": [],
   "source": [
    "response = openai.Completion.create(engine=\"text-davinci-003\",\n",
    "                                    prompt=recipe,\n",
    "                                    max_tokens=512,\n",
    "                                    temperature=0.7)"
   ]
  },
  {
   "cell_type": "code",
   "execution_count": 9,
   "metadata": {},
   "outputs": [
    {
     "name": "stdout",
     "output_type": "stream",
     "text": [
      "\n",
      "\n",
      "Recipe Title: Ham and Turkey Frittata Sandwich\n",
      "\n",
      "Ingredients: \n",
      "- 4 slices of bread\n",
      "- 4 eggs\n",
      "- 4 ounces of deli ham\n",
      "- 4 ounces of deli turkey\n",
      "\n",
      "Instructions:\n",
      "1. Preheat oven to 350 degrees Fahrenheit.\n",
      "2. Crack the eggs into a large bowl and whisk together until foamy.\n",
      "3. Add the ham and turkey to the bowl and stir until everything is evenly incorporated.\n",
      "4. Grease a 9-inch baking dish with butter or cooking spray.\n",
      "5. Pour the egg mixture into the dish and spread it evenly.\n",
      "6. Place the dish in the preheated oven and bake for 25 minutes, or until the top is lightly golden.\n",
      "7. Remove the dish from the oven and let cool for at least 10 minutes.\n",
      "8. Cut the frittata into 4 equal pieces.\n",
      "9. Toast the bread in a toaster or in a skillet over medium heat. \n",
      "10. Place one piece of the frittata on each slice of toasted bread.\n",
      "11. Serve and enjoy!\n"
     ]
    }
   ],
   "source": [
    "result_text = response['choices'][0]['text']\n",
    "print(result_text)"
   ]
  },
  {
   "cell_type": "code",
   "execution_count": 10,
   "metadata": {},
   "outputs": [],
   "source": [
    "import re"
   ]
  },
  {
   "cell_type": "code",
   "execution_count": 11,
   "metadata": {},
   "outputs": [
    {
     "data": {
      "text/plain": [
       "['\\n\\n',\n",
       " 'Ham and Turkey Frittata Sandwich\\n\\nIngredients: \\n- 4 slices of bread\\n- 4 eggs\\n- 4 ounces of deli ham\\n- 4 ounces of deli turkey\\n\\nInstructions:\\n1. Preheat oven to 350 degrees Fahrenheit.\\n2. Crack the eggs into a large bowl and whisk together until foamy.\\n3. Add the ham and turkey to the bowl and stir until everything is evenly incorporated.\\n4. Grease a 9-inch baking dish with butter or cooking spray.\\n5. Pour the egg mixture into the dish and spread it evenly.\\n6. Place the dish in the preheated oven and bake for 25 minutes, or until the top is lightly golden.\\n7. Remove the dish from the oven and let cool for at least 10 minutes.\\n8. Cut the frittata into 4 equal pieces.\\n9. Toast the bread in a toaster or in a skillet over medium heat. \\n10. Place one piece of the frittata on each slice of toasted bread.\\n11. Serve and enjoy!']"
      ]
     },
     "execution_count": 11,
     "metadata": {},
     "output_type": "execute_result"
    }
   ],
   "source": [
    "result_text.split('Recipe Title: ')"
   ]
  },
  {
   "cell_type": "code",
   "execution_count": 16,
   "metadata": {},
   "outputs": [],
   "source": [
    "def extract_title(recipe):\n",
    "    return re.findall('^.*Recipe Title: .*$', recipe, re.MULTILINE)[0].split('Recipe Title: ')[-1]"
   ]
  },
  {
   "cell_type": "code",
   "execution_count": 25,
   "metadata": {},
   "outputs": [
    {
     "data": {
      "text/plain": [
       "'Ham and Turkey Frittata Sandwich'"
      ]
     },
     "execution_count": 25,
     "metadata": {},
     "output_type": "execute_result"
    }
   ],
   "source": [
    "recipe_title = extract_title(result_text)\n",
    "recipe_title"
   ]
  },
  {
   "cell_type": "code",
   "execution_count": 26,
   "metadata": {},
   "outputs": [],
   "source": [
    "def dalle2_prompt(recipe_title):\n",
    "    prompt = f\"{recipe_title}, professional food photography, 15mm, studio lighting\"\n",
    "    return prompt"
   ]
  },
  {
   "cell_type": "code",
   "execution_count": 27,
   "metadata": {},
   "outputs": [
    {
     "data": {
      "text/plain": [
       "'Ham and Turkey Frittata Sandwich, professional food photography, 15mm, studio lighting'"
      ]
     },
     "execution_count": 27,
     "metadata": {},
     "output_type": "execute_result"
    }
   ],
   "source": [
    "dalle2_prompt(recipe_title)"
   ]
  },
  {
   "cell_type": "code",
   "execution_count": 29,
   "metadata": {},
   "outputs": [],
   "source": [
    "img_response = openai.Image.create(prompt=dalle2_prompt(recipe_title),\n",
    "                                   n=1,\n",
    "                                   size='1024x1024')"
   ]
  },
  {
   "cell_type": "code",
   "execution_count": 31,
   "metadata": {},
   "outputs": [],
   "source": [
    "image_url = img_response['data'][0]['url']"
   ]
  },
  {
   "cell_type": "code",
   "execution_count": 23,
   "metadata": {},
   "outputs": [],
   "source": [
    "import requests\n",
    "import shutil\n",
    "\n",
    "def save_image(image_url, file_name):\n",
    "    image_res = requests.get(image_url, stream=True)\n",
    "    if image_res.status_code == 200:\n",
    "        with open(file_name, 'wb') as f:\n",
    "            shutil.copyfileobj(image_res.raw, f)\n",
    "    else:\n",
    "        print(\"ERROR LOADING IMAGE!\")\n",
    "\n",
    "    return image_res.status_code\n",
    "\n"
   ]
  },
  {
   "cell_type": "code",
   "execution_count": 32,
   "metadata": {},
   "outputs": [
    {
     "data": {
      "text/plain": [
       "200"
      ]
     },
     "execution_count": 32,
     "metadata": {},
     "output_type": "execute_result"
    }
   ],
   "source": [
    "save_image(image_url, 'example_with_more_kw_download.png')"
   ]
  }
 ],
 "metadata": {
  "kernelspec": {
   "display_name": "Python 3 (ipykernel)",
   "language": "python",
   "name": "python3"
  },
  "language_info": {
   "codemirror_mode": {
    "name": "ipython",
    "version": 3
   },
   "file_extension": ".py",
   "mimetype": "text/x-python",
   "name": "python",
   "nbconvert_exporter": "python",
   "pygments_lexer": "ipython3",
   "version": "3.10.4"
  },
  "orig_nbformat": 4
 },
 "nbformat": 4,
 "nbformat_minor": 2
}
